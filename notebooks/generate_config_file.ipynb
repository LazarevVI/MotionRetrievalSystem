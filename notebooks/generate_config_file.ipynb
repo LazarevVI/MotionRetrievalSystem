{
 "cells": [
  {
   "cell_type": "code",
   "execution_count": null,
   "metadata": {},
   "outputs": [],
   "source": [
    "import configparser\n",
    "path_to_config = '..//app//config//config.ini'\n",
    "config = configparser.ConfigParser()"
   ]
  },
  {
   "cell_type": "code",
   "execution_count": null,
   "metadata": {},
   "outputs": [],
   "source": [
    "config['DEFAULT']['path_to_config'] = './/app//config//config.ini'\n",
    "config['DEFAULT']['path_to_openpose'] = './/dependencies//openpose//'\n",
    "config['DEFAULT']['path_to_videos'] = './/app//data//videos//'\n",
    "config['DEFAULT']['path_to_keypoints'] = './/app//data//keypoints//'\n",
    "config['DEFAULT']['extracted_features'] = './/app//data//features//'"
   ]
  },
  {
   "cell_type": "code",
   "execution_count": null,
   "metadata": {},
   "outputs": [],
   "source": [
    "with open(path_to_config, 'w') as configfile:\n",
    "    config.write(configfile)"
   ]
  },
  {
   "cell_type": "code",
   "execution_count": null,
   "metadata": {},
   "outputs": [],
   "source": [
    "config.read(path_to_config)"
   ]
  }
 ],
 "metadata": {
  "kernelspec": {
   "display_name": ".venv",
   "language": "python",
   "name": "python3"
  },
  "language_info": {
   "codemirror_mode": {
    "name": "ipython",
    "version": 3
   },
   "file_extension": ".py",
   "mimetype": "text/x-python",
   "name": "python",
   "nbconvert_exporter": "python",
   "pygments_lexer": "ipython3",
   "version": "3.8.10"
  },
  "orig_nbformat": 4
 },
 "nbformat": 4,
 "nbformat_minor": 2
}
