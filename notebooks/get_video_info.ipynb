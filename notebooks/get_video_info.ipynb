{
 "cells": [
  {
   "cell_type": "code",
   "execution_count": 2,
   "metadata": {},
   "outputs": [],
   "source": [
    "from pymediainfo import MediaInfo\n",
    "from pprint import pprint"
   ]
  },
  {
   "cell_type": "code",
   "execution_count": 4,
   "metadata": {},
   "outputs": [],
   "source": [
    "media_info = MediaInfo.parse(\"..\\\\app\\\\data\\\\videos\\\\0.mp4\")"
   ]
  },
  {
   "cell_type": "code",
   "execution_count": 6,
   "metadata": {},
   "outputs": [
    {
     "name": "stdout",
     "output_type": "stream",
     "text": [
      "Bit rate: 2090877, Frame rate: 23.976, Format: AVC\n",
      "1280×720 pixels\n"
     ]
    }
   ],
   "source": [
    "for track in media_info.tracks:\n",
    "    if track.track_type == \"Video\":\n",
    "        print(\"Bit rate: {t.bit_rate}, Frame rate: {t.frame_rate}, \"\n",
    "              \"Format: {t.format}\".format(t=track)\n",
    "        )\n",
    "        print(f\"{track.width}×{track.height} pixels\")"
   ]
  },
  {
   "cell_type": "code",
   "execution_count": null,
   "metadata": {},
   "outputs": [],
   "source": []
  }
 ],
 "metadata": {
  "kernelspec": {
   "display_name": ".venv",
   "language": "python",
   "name": "python3"
  },
  "language_info": {
   "codemirror_mode": {
    "name": "ipython",
    "version": 3
   },
   "file_extension": ".py",
   "mimetype": "text/x-python",
   "name": "python",
   "nbconvert_exporter": "python",
   "pygments_lexer": "ipython3",
   "version": "3.8.10"
  },
  "orig_nbformat": 4
 },
 "nbformat": 4,
 "nbformat_minor": 2
}
